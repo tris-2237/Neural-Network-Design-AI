{
 "cells": [
  {
   "cell_type": "code",
   "execution_count": 4,
   "id": "c51aa7fb",
   "metadata": {},
   "outputs": [],
   "source": [
    "import numpy as np\n",
    "import pandas as pd\n",
    "\n"
   ]
  },
  {
   "cell_type": "code",
   "execution_count": 5,
   "id": "4b51dcdb",
   "metadata": {},
   "outputs": [],
   "source": [
    "def activation(z):\n",
    "    if z>=0:\n",
    "        Y=1\n",
    "    else:\n",
    "        Y=-1\n",
    "    return Y\n",
    "\n"
   ]
  },
  {
   "cell_type": "code",
   "execution_count": 10,
   "id": "0d42114b",
   "metadata": {},
   "outputs": [
    {
     "name": "stdout",
     "output_type": "stream",
     "text": [
      "Input Vector:\n",
      "[[-1 -1]\n",
      " [-1  1]\n",
      " [ 1 -1]\n",
      " [ 1  1]]\n",
      "Target Vector:\n",
      "[-1  1  1  1]\n",
      "-----------------------------------------------------------\n",
      "Initial Weights:  [0.83 0.13]\n",
      "Initial Bias: 0.56\n",
      "------------------------------------------------------------\n",
      "EPOCH:  0\n",
      "   X1  X2  T   yin  Y    W1    W2     b  delW1  delW2  delb\n",
      "0  -1  -1 -1 -0.40 -1  0.83  0.13  0.56      0      0    -1\n",
      "1  -1   1  1 -0.14 -1 -0.17  1.13  1.56     -1      1     1\n",
      "2   1  -1  1  0.26  1 -0.17  1.13  1.56      0      0     1\n",
      "3   1   1  1  2.52  1 -0.17  1.13  1.56      0      0     1\n",
      "------------------------------------------------------------\n",
      "EPOCH:  1\n",
      "   X1  X2  T   yin  Y    W1    W2     b  delW1  delW2  delb\n",
      "0  -1  -1 -1  0.60  1  0.83  2.13  0.56      1      1    -1\n",
      "1  -1   1  1  1.86  1  0.83  2.13  0.56      0      0     1\n",
      "2   1  -1  1 -0.74 -1  1.83  1.13  1.56      1     -1     1\n",
      "3   1   1  1  4.52  1  1.83  1.13  1.56      0      0     1\n",
      "------------------------------------------------------------\n",
      "EPOCH:  2\n",
      "   X1  X2  T   yin  Y    W1    W2     b  delW1  delW2  delb\n",
      "0  -1  -1 -1 -1.40 -1  1.83  1.13  1.56      0      0    -1\n",
      "1  -1   1  1  0.86  1  1.83  1.13  1.56      0      0     1\n",
      "2   1  -1  1  2.26  1  1.83  1.13  1.56      0      0     1\n",
      "3   1   1  1  4.52  1  1.83  1.13  1.56      0      0     1\n",
      "------------------------------------------------------------\n"
     ]
    }
   ],
   "source": [
    "# Input Vector\n",
    "X= np.array([[-1,-1],[-1,1],[1,-1],[1,1]])\n",
    "# Weights and bias\n",
    "W=np.array([0.83,0.13])\n",
    "b=0.56\n",
    "#Target\n",
    "T=np.array([-1,1,1,1])\n",
    "a=1\n",
    "print(\"Input Vector:\")\n",
    "print(X)\n",
    "print(\"Target Vector:\")\n",
    "print(T)\n",
    "\n",
    "print(\"-----------------------------------------------------------\")\n",
    "print(\"Initial Weights: \",W)\n",
    "print(\"Initial Bias:\",b)\n",
    "print(\"------------------------------------------------------------\")\n",
    "T_vector=[-1,1,1,1]\n",
    "Y_vector=[]\n",
    "i=0\n",
    "while True:\n",
    "    print(\"EPOCH: \",i)\n",
    "   \n",
    "    Data=[]\n",
    "    for j in range(0,len(X)):\n",
    "        aggregation=(np.dot(W,X[j].T))+b\n",
    "       \n",
    "        Y=activation(aggregation)\n",
    "        Y_vector.append(Y)\n",
    "        if Y != T[j] :\n",
    "            deltaW=a*X[j]*T[j]\n",
    "            W=W+deltaW\n",
    "            b=b+a*T[j]\n",
    "        else:\n",
    "            deltaW=[0,0]\n",
    "\n",
    "       \n",
    "        Data.append([X[j][0],X[j][1],T[j],round(aggregation,2),Y,W[0],W[1],round(b,2),deltaW[0],deltaW[1],a*T[j]])\n",
    "\n",
    "   \n",
    "\n",
    "    Final_Data= pd.DataFrame(Data,columns=['X1', 'X2', 'T', 'yin', 'Y', 'W1', 'W2', 'b', 'delW1', 'delW2', 'delb'])\n",
    "    print(Final_Data)   \n",
    "    print(\"------------------------------------------------------------\")\n",
    "\n",
    "    i=i+1\n",
    "    if Y_vector == T_vector:\n",
    "        break\n",
    "    Y_vector=[]"
   ]
  }
 ],
 "metadata": {
  "kernelspec": {
   "display_name": "Python 3 (ipykernel)",
   "language": "python",
   "name": "python3"
  },
  "language_info": {
   "codemirror_mode": {
    "name": "ipython",
    "version": 3
   },
   "file_extension": ".py",
   "mimetype": "text/x-python",
   "name": "python",
   "nbconvert_exporter": "python",
   "pygments_lexer": "ipython3",
   "version": "3.9.13"
  }
 },
 "nbformat": 4,
 "nbformat_minor": 5
}
